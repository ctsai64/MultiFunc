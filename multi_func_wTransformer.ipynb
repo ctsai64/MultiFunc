{
 "cells": [
  {
   "cell_type": "code",
   "execution_count": 1,
   "metadata": {},
   "outputs": [
    {
     "name": "stderr",
     "output_type": "stream",
     "text": [
      "/home/cymberly/miniconda3/envs/multifunc/lib/python3.11/site-packages/tqdm/auto.py:21: TqdmWarning: IProgress not found. Please update jupyter and ipywidgets. See https://ipywidgets.readthedocs.io/en/stable/user_install.html\n",
      "  from .autonotebook import tqdm as notebook_tqdm\n"
     ]
    }
   ],
   "source": [
    "import torch\n",
    "import torch.nn as nn\n",
    "import torch.optim as optim\n",
    "from torch.utils.data import DataLoader\n",
    "\n",
    "import matplotlib.pyplot as plt\n",
    "import numpy as np\n",
    "import time\n",
    "from torch.optim.lr_scheduler import StepLR\n",
    "\n",
    "from transformers import AutoFeatureExtractor, ASTForAudioClassification, AutoConfig\n",
    "from datasets import load_dataset\n",
    "import soundfile\n",
    "import librosa\n",
    "from transformers import ASTConfig, ASTModel\n",
    "from tqdm import tqdm\n"
   ]
  },
  {
   "cell_type": "code",
   "execution_count": 2,
   "metadata": {},
   "outputs": [],
   "source": [
    "device = torch.device(\"cuda:4\" if torch.cuda.is_available() else \"cpu\")"
   ]
  },
  {
   "cell_type": "code",
   "execution_count": 11,
   "metadata": {},
   "outputs": [
    {
     "name": "stdout",
     "output_type": "stream",
     "text": [
      "torch.Size([1000, 10000])\n"
     ]
    }
   ],
   "source": [
    "high = 1\n",
    "low = -1\n",
    "sample_size = 10000\n",
    "sequence_size = 1000\n",
    "degree = 3\n",
    "x = torch.linspace(-1, 1, sequence_size)\n",
    "x = x.unsqueeze(1).expand(sequence_size, sample_size)\n",
    "y = torch.zeros_like(x)\n",
    "for n in range(degree):\n",
    "    p = (high - low) * torch.rand(sample_size)\n",
    "    y += p*(x**(n+1))\n",
    "\n",
    "print(y.shape)"
   ]
  },
  {
   "cell_type": "code",
   "execution_count": 12,
   "metadata": {},
   "outputs": [],
   "source": [
    "y_np = y.numpy().swapaxes(0,1)\n",
    "y_np = y_np/np.max(np.abs(y_np))\n",
    "\n",
    "def to_spectrogram(data, n_fft=2032, hop_length=8):\n",
    "    D = librosa.stft(data, n_fft=n_fft, hop_length=hop_length)\n",
    "    S_db = librosa.amplitude_to_db(np.abs(D), ref=np.max)\n",
    "    spectrogram = np.expand_dims(S_db, axis=0)\n",
    "    return torch.tensor(spectrogram)"
   ]
  },
  {
   "cell_type": "code",
   "execution_count": 13,
   "metadata": {},
   "outputs": [
    {
     "name": "stderr",
     "output_type": "stream",
     "text": [
      "  0%|          | 0/100 [00:00<?, ?it/s]/home/cymberly/miniconda3/envs/multifunc/lib/python3.11/site-packages/librosa/core/spectrum.py:266: UserWarning: n_fft=2032 is too large for input signal of length=1000\n",
      "  warnings.warn(\n",
      "100%|██████████| 100/100 [07:38<00:00,  4.59s/it]\n"
     ]
    }
   ],
   "source": [
    "dataloader = DataLoader(y_np, batch_size=100)\n",
    "all_spectrograms = []\n",
    "\n",
    "for batch in tqdm(dataloader):\n",
    "    batch = batch.numpy()\n",
    "    batch_spectrograms = [to_spectrogram(s) for s in batch]\n",
    "    batch_tensor = torch.vstack(batch_spectrograms)\n",
    "    all_spectrograms.append(batch_tensor)    "
   ]
  },
  {
   "cell_type": "code",
   "execution_count": 6,
   "metadata": {},
   "outputs": [
    {
     "name": "stdout",
     "output_type": "stream",
     "text": [
      "100\n"
     ]
    }
   ],
   "source": [
    "all_spectrograms = torch.vstack(all_spectrograms).to(device)"
   ]
  },
  {
   "cell_type": "code",
   "execution_count": 3,
   "metadata": {},
   "outputs": [
    {
     "name": "stderr",
     "output_type": "stream",
     "text": [
      "/tmp/ipykernel_3911254/467238719.py:6: FutureWarning: You are using `torch.load` with `weights_only=False` (the current default value), which uses the default pickle module implicitly. It is possible to construct malicious pickle data which will execute arbitrary code during unpickling (See https://github.com/pytorch/pytorch/blob/main/SECURITY.md#untrusted-models for more details). In a future release, the default value for `weights_only` will be flipped to `True`. This limits the functions that could be executed during unpickling. Arbitrary objects will no longer be allowed to be loaded via this mode unless they are explicitly allowlisted by the user via `torch.serialization.add_safe_globals`. We recommend you start setting `weights_only=True` for any use case where you don't have full control of the loaded file. Please open an issue on GitHub for any issues related to this experimental feature.\n",
      "  y_data = torch.load(f\"spectrograms{0}.pt\")\n"
     ]
    },
    {
     "name": "stdout",
     "output_type": "stream",
     "text": [
      "y_data: torch.Size([10000, 1017, 126])\n",
      "x_data: torch.Size([1000, 10000])\n"
     ]
    },
    {
     "name": "stderr",
     "output_type": "stream",
     "text": [
      "/tmp/ipykernel_3911254/467238719.py:8: FutureWarning: You are using `torch.load` with `weights_only=False` (the current default value), which uses the default pickle module implicitly. It is possible to construct malicious pickle data which will execute arbitrary code during unpickling (See https://github.com/pytorch/pytorch/blob/main/SECURITY.md#untrusted-models for more details). In a future release, the default value for `weights_only` will be flipped to `True`. This limits the functions that could be executed during unpickling. Arbitrary objects will no longer be allowed to be loaded via this mode unless they are explicitly allowlisted by the user via `torch.serialization.add_safe_globals`. We recommend you start setting `weights_only=True` for any use case where you don't have full control of the loaded file. Please open an issue on GitHub for any issues related to this experimental feature.\n",
      "  x_data = torch.load(\"x_data.pt\")\n"
     ]
    }
   ],
   "source": [
    "'''y_arrays = []\n",
    "for o in range(5):\n",
    "    y_arrays.append(torch.load(f\"spectrograms{o}.pt\"))\n",
    "y_data = torch.vstack(y_arrays)'''\n",
    "\n",
    "y_data = torch.load(f\"spectrograms{0}.pt\")\n",
    "print(f\"y_data: {y_data.shape}\")\n",
    "x_data = torch.load(\"x_data.pt\")\n",
    "print(f\"x_data: {x_data.shape}\")\n"
   ]
  },
  {
   "cell_type": "code",
   "execution_count": 5,
   "metadata": {},
   "outputs": [],
   "source": [
    "def linear_function(params, x, device):\n",
    "    x = x.to(device)\n",
    "    if params.size(1) > 1:\n",
    "        a = params[:, 0].type(torch.float).unsqueeze(1).to(device)\n",
    "        b = params[:, 1].type(torch.float).unsqueeze(1).to(device)\n",
    "        return a*x + b\n",
    "    else:\n",
    "        return torch.zeros_like(params)\n",
    "\n",
    "def quadratic_function(params, x, device):\n",
    "    params = params.to(device)\n",
    "    x = x.to(device)\n",
    "    y = torch.zeros((params.size(0),x.shape[0])).to(device)\n",
    "    if params.size(1) > 2:\n",
    "        for n in range(len(params[0])):\n",
    "            y += (params[:, n].type(torch.float).unsqueeze(1).to(device))*x**(3-n)\n",
    "        return y\n",
    "    else:\n",
    "        return torch.zeros_like(params)\n",
    "\n",
    "def cubic_function(params, x, device):\n",
    "    params = params.to(device)\n",
    "    x = x.to(device)\n",
    "    y = torch.zeros((params.size(0),x.shape[0])).to(device)\n",
    "    if params.size(1) > 3:\n",
    "        for n in range(len(params[0])):\n",
    "            y += (params[:, n].type(torch.float).unsqueeze(1).to(device))*x**(3-n)\n",
    "        return y\n",
    "    else:\n",
    "        return torch.zeros_like(params)\n",
    "    \n",
    "def sin_function(params, x, device):\n",
    "    x = x.to(device)\n",
    "    if params.size(1) == 3:\n",
    "        amplitude = params[:, 0].type(torch.float).unsqueeze(1).to(device)\n",
    "        frequency = params[:, 1].type(torch.float).unsqueeze(1).to(device)\n",
    "        phase = params[:, 2].type(torch.float).unsqueeze(1).to(device)\n",
    "        return amplitude * torch.sin(2 * torch.pi * frequency * x + phase)\n",
    "    else:\n",
    "        return torch.zeros_like(x)"
   ]
  },
  {
   "cell_type": "code",
   "execution_count": 7,
   "metadata": {},
   "outputs": [],
   "source": [
    "def new_loss(output, target, x):\n",
    "    derivative_true = torch.autograd.grad(outputs=target.requires_grad_(True), inputs=x, grad_outputs=torch.ones_like(target), allow_unused=True)[0]\n",
    "    if derivative_true is None:\n",
    "        derivative_true = torch.zeros_like(output)\n",
    "    derivative_pred = (torch.roll(output, shifts=-1, dims=0) - torch.roll(output, shifts=1, dims=0)) / (2 * 1e-8)\n",
    "    mse_function = torch.mean(torch.abs(target - output)**3)\n",
    "    mse_derivative = torch.mean(torch.abs(derivative_pred - derivative_true)**3)\n",
    "    return mse_function + mse_derivative"
   ]
  },
  {
   "cell_type": "code",
   "execution_count": 9,
   "metadata": {},
   "outputs": [],
   "source": [
    "class CustomModel(ASTForAudioClassification):\n",
    "    def __init__(self, config, functions, x_data, device):\n",
    "        super().__init__(config)\n",
    "        self.device = device\n",
    "        self.functions = functions\n",
    "        self.x_data = x_data\n",
    "        self.params = sum(self.functions[1])\n",
    "        \n",
    "        del self.classifier.dense\n",
    "\n",
    "        self.flatten_layer = nn.Flatten()\n",
    "\n",
    "        self.hidden_embedding = nn.Sequential(\n",
    "            nn.Linear(28, 128),\n",
    "            nn.SELU(),\n",
    "            nn.Linear(128, 64),\n",
    "            nn.SELU(),\n",
    "            nn.Linear(64, self.params),\n",
    "        )\n",
    "\n",
    "    def forward(self, input_values):\n",
    "        outputs = self.audio_spectrogram_transformer(input_values)\n",
    "        output = self.classifier.layernorm(outputs[0])\n",
    "        print(f\"outputs: {outputs.shape}\")\n",
    "        embedding = self.hidden_embedding(outputs)\n",
    "        \n",
    "        return output"
   ]
  },
  {
   "cell_type": "code",
   "execution_count": 10,
   "metadata": {},
   "outputs": [
    {
     "ename": "NameError",
     "evalue": "name 'x' is not defined",
     "output_type": "error",
     "traceback": [
      "\u001b[0;31m---------------------------------------------------------------------------\u001b[0m",
      "\u001b[0;31mNameError\u001b[0m                                 Traceback (most recent call last)",
      "Cell \u001b[0;32mIn[10], line 3\u001b[0m\n\u001b[1;32m      1\u001b[0m config \u001b[38;5;241m=\u001b[39m ASTConfig()\n\u001b[1;32m      2\u001b[0m functions \u001b[38;5;241m=\u001b[39m [[linear_function, quadratic_function, cubic_function, sin_function], [\u001b[38;5;241m2\u001b[39m,\u001b[38;5;241m3\u001b[39m,\u001b[38;5;241m4\u001b[39m,\u001b[38;5;241m3\u001b[39m]]\n\u001b[0;32m----> 3\u001b[0m customModel \u001b[38;5;241m=\u001b[39m CustomModel(config, functions\u001b[38;5;241m=\u001b[39mfunctions, x_data\u001b[38;5;241m=\u001b[39m\u001b[43mx\u001b[49m)\u001b[38;5;241m.\u001b[39mto(device)\n",
      "\u001b[0;31mNameError\u001b[0m: name 'x' is not defined"
     ]
    }
   ],
   "source": [
    "config = ASTConfig()\n",
    "functions = [[linear_function, quadratic_function, cubic_function, sin_function], [2,3,4,3]]\n",
    "customModel = CustomModel(config, functions=functions, x_data=x).to(device)"
   ]
  },
  {
   "cell_type": "code",
   "execution_count": 6,
   "metadata": {},
   "outputs": [],
   "source": [
    "loss_func = nn.MSELoss()\n",
    "optimizer = optim.Adam(customModel.parameters(), lr=0.001)\n",
    "scheduler = StepLR(optimizer, step_size=10, gamma=0.1)\n",
    "training_data = DataLoader(data, batch_size=10)"
   ]
  },
  {
   "cell_type": "code",
   "execution_count": 7,
   "metadata": {},
   "outputs": [],
   "source": [
    "epochs = 1\n",
    "for epoch in range(epochs):\n",
    "    start_time = time.time()\n",
    "    train_loss = 0.0\n",
    "    total_num = 0\n",
    "    customModel.train()\n",
    "    \n",
    "    for train_batch in training_data:\n",
    "        out = customModel(train_batch)\n"
   ]
  },
  {
   "cell_type": "code",
   "execution_count": 8,
   "metadata": {},
   "outputs": [
    {
     "name": "stdout",
     "output_type": "stream",
     "text": [
      "torch.Size([1, 1017, 126])\n",
      "torch.Size([1, 1214, 768])\n"
     ]
    }
   ],
   "source": [
    "customModel.train\n",
    "print(data[0].unsqueeze(0).shape)\n",
    "outs = customModel(data[0].unsqueeze(0))\n",
    "print(outs.shape)"
   ]
  },
  {
   "cell_type": "code",
   "execution_count": 9,
   "metadata": {},
   "outputs": [
    {
     "name": "stdout",
     "output_type": "stream",
     "text": [
      "torch.Size([10, 1017, 128])\n"
     ]
    },
    {
     "data": {
      "text/plain": [
       "torch.Size([10, 1214, 768])"
      ]
     },
     "execution_count": 9,
     "metadata": {},
     "output_type": "execute_result"
    }
   ],
   "source": [
    "dummyData = torch.zeros((10, 1017, 128)).to(device)\n",
    "print(dummyData.shape)\n",
    "customModel(dummyData).shape"
   ]
  },
  {
   "cell_type": "code",
   "execution_count": null,
   "metadata": {},
   "outputs": [],
   "source": [
    "'''r = np.random.randint(sample_size)\n",
    "sample = data[r, :, 0]\n",
    "print(sample.shape)\n",
    "# STFT parameters\n",
    "n_fft = 256  # Number of FFT components\n",
    "win_length = 256  # Window length\n",
    "hop_length = 128  # Number of samples between frames\n",
    "\n",
    "# Convert sample to complex tensor with the required dimensions\n",
    "sample = sample.unsqueeze(0)  # Add batch dimension\n",
    "\n",
    "# Apply STFT\n",
    "spectrogram = torch.stft(sample, n_fft=n_fft, win_length=win_length, hop_length=hop_length, return_complex=True)\n",
    "print(spectrogram.shape)\n",
    "# Compute magnitude spectrogram\n",
    "magnitude_spectrogram = torch.abs(spectrogram)\n",
    "print(magnitude_spectrogram.shape)\n",
    "\n",
    "# Convert to numpy for plotting\n",
    "spectrogram_np = magnitude_spectrogram.squeeze().cpu().numpy()\n",
    "print(spectrogram_np.size)\n",
    "# Plot the spectrogram\n",
    "plt.figure(figsize=(10, 4))\n",
    "plt.imshow(20 * np.log10(spectrogram_np + 1e-8), aspect='auto', origin='lower', cmap='inferno')\n",
    "plt.colorbar(label='Magnitude (dB)')\n",
    "plt.xlabel('Time')\n",
    "plt.ylabel('Frequency')\n",
    "plt.title('Spectrogram of Polynomial Function Output')\n",
    "plt.show()\n",
    "\n",
    "plt.plot(data[r, :, 0].detach().cpu().numpy(), \"-\");\n",
    "'''"
   ]
  },
  {
   "cell_type": "code",
   "execution_count": null,
   "metadata": {},
   "outputs": [],
   "source": [
    "dataset = load_dataset(\"hf-internal-testing/librispeech_asr_demo\", \"clean\", split=\"validation\", trust_remote_code=True)\n",
    "dataset = dataset.sort(\"id\")\n",
    "sampling_rate = dataset.features[\"audio\"].sampling_rate\n",
    "\n",
    "feature_extractor = AutoFeatureExtractor.from_pretrained(\"MIT/ast-finetuned-audioset-10-10-0.4593\")\n",
    "model = ASTForAudioClassification.from_pretrained(\"MIT/ast-finetuned-audioset-10-10-0.4593\")\n",
    "\n",
    "inputs = feature_extractor(dataset[0][\"audio\"][\"array\"], sampling_rate=sampling_rate, return_tensors=\"pt\")\n",
    "print(inputs['input_values'].shape)\n",
    "#print(**inputs)\n",
    "with torch.no_grad():\n",
    "    #logits = model(**inputs).logits\n",
    "    logits = model(inputs[\"input_values\"]).logits\n",
    "\n",
    "print(logits.shape)\n",
    "\n",
    "predicted_class_ids = torch.argmax(logits, dim=-1).item()\n",
    "predicted_label = model.config.id2label[predicted_class_ids]\n",
    "predicted_label\n",
    "\n",
    "target_label = model.config.id2label[0]\n",
    "inputs[\"labels\"] = torch.tensor([model.config.label2id[target_label]])\n",
    "loss = model(**inputs).loss\n",
    "round(loss.item(), 2)"
   ]
  }
 ],
 "metadata": {
  "kernelspec": {
   "display_name": "multifunc",
   "language": "python",
   "name": "python3"
  },
  "language_info": {
   "codemirror_mode": {
    "name": "ipython",
    "version": 3
   },
   "file_extension": ".py",
   "mimetype": "text/x-python",
   "name": "python",
   "nbconvert_exporter": "python",
   "pygments_lexer": "ipython3",
   "version": "undefined.undefined.undefined"
  }
 },
 "nbformat": 4,
 "nbformat_minor": 2
}
