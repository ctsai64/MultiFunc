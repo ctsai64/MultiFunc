{
 "cells": [
  {
   "cell_type": "code",
   "execution_count": 7,
   "metadata": {},
   "outputs": [],
   "source": [
    "import torch\n",
    "from torch.utils.data import DataLoader\n",
    "import numpy as np\n",
    "import matplotlib.pyplot as plt\n",
    "import librosa\n",
    "from tqdm import tqdm"
   ]
  },
  {
   "cell_type": "code",
   "execution_count": 3,
   "metadata": {},
   "outputs": [],
   "source": [
    "device = torch.device(\"cuda:4\" if torch.cuda.is_available() else \"cpu\")"
   ]
  },
  {
   "cell_type": "code",
   "execution_count": 4,
   "metadata": {},
   "outputs": [
    {
     "name": "stdout",
     "output_type": "stream",
     "text": [
      "torch.Size([1000, 10000])\n"
     ]
    }
   ],
   "source": [
    "high = 1\n",
    "low = -1\n",
    "sample_size = 10000\n",
    "sequence_size = 1000\n",
    "degree = 3\n",
    "x = torch.linspace(-1, 1, sequence_size)\n",
    "x = x.unsqueeze(1).expand(sequence_size, sample_size)\n",
    "y = torch.zeros_like(x)\n",
    "for n in range(degree):\n",
    "    p = (high - low) * torch.rand(sample_size)\n",
    "    y += p*(x**(n+1))\n",
    "\n",
    "print(y.shape)"
   ]
  },
  {
   "cell_type": "code",
   "execution_count": null,
   "metadata": {},
   "outputs": [],
   "source": [
    "'''y_np = y.numpy()\n",
    "y_np = y_np/np.max(np.abs(y_np))\n",
    "sample_y = y_np[:, 0]\n",
    "D = librosa.stft(sample_y, n_fft=2032, hop_length=8)\n",
    "S_db = librosa.amplitude_to_db(np.abs(D), ref=np.max)\n",
    "spectrogram = np.expand_dims(S_db, axis=0)\n",
    "spectrogram = torch.tensor(spectrogram).to(device)\n",
    "print(spectrogram.shape)'''"
   ]
  },
  {
   "cell_type": "code",
   "execution_count": 5,
   "metadata": {},
   "outputs": [],
   "source": [
    "y_np = y.numpy().swapaxes(0,1)\n",
    "y_np = y_np/np.max(np.abs(y_np))\n",
    "\n",
    "def to_spectrogram(data, n_fft=2032, hop_length=8):\n",
    "    D = librosa.stft(data, n_fft=n_fft, hop_length=hop_length)\n",
    "    S_db = librosa.amplitude_to_db(np.abs(D), ref=np.max)\n",
    "    spectrogram = np.expand_dims(S_db, axis=0)\n",
    "    return torch.tensor(spectrogram)"
   ]
  },
  {
   "cell_type": "code",
   "execution_count": 8,
   "metadata": {},
   "outputs": [
    {
     "name": "stderr",
     "output_type": "stream",
     "text": [
      "  0%|          | 0/100 [00:00<?, ?it/s]/home/cymberly/miniconda3/envs/multifunc/lib/python3.11/site-packages/librosa/core/spectrum.py:266: UserWarning: n_fft=2032 is too large for input signal of length=1000\n",
      "  warnings.warn(\n",
      "100%|██████████| 100/100 [06:27<00:00,  3.87s/it]\n"
     ]
    }
   ],
   "source": [
    "dataloader = DataLoader(y_np, batch_size=100)\n",
    "all_spectrograms = []\n",
    "\n",
    "for batch in tqdm(dataloader):\n",
    "    batch = batch.numpy()\n",
    "    batch_spectrograms = [to_spectrogram(s) for s in batch]\n",
    "    batch_tensor = torch.vstack(batch_spectrograms)\n",
    "    all_spectrograms.append(batch_tensor)    "
   ]
  },
  {
   "cell_type": "code",
   "execution_count": null,
   "metadata": {},
   "outputs": [],
   "source": [
    "all_spectrograms = torch.vstack(all_spectrograms).to(device)\n",
    "all_spectrograms.shape"
   ]
  },
  {
   "cell_type": "code",
   "execution_count": null,
   "metadata": {},
   "outputs": [],
   "source": [
    "start = 0\n",
    "end = int(all_spectrograms.size(0))\n",
    "\n",
    "for p in range(10):\n",
    "    torch.save(all_spectrograms[start:end], f\"spectrograms{p}.pt\")\n",
    "    start = end\n",
    "    end += int(all_spectrograms.size(0))"
   ]
  },
  {
   "cell_type": "code",
   "execution_count": 9,
   "metadata": {},
   "outputs": [],
   "source": [
    "torch.save(x, \"x_data.pt\")"
   ]
  },
  {
   "cell_type": "code",
   "execution_count": null,
   "metadata": {},
   "outputs": [],
   "source": [
    "y_arrays = []\n",
    "for o in range(10):\n",
    "    y_arrays.append(torch.load(f\"spectrograms{p}.pt\"))\n",
    "y_data = torch.vstack(y_arrays)\n",
    "y_data.shape"
   ]
  },
  {
   "cell_type": "code",
   "execution_count": 11,
   "metadata": {},
   "outputs": [
    {
     "name": "stderr",
     "output_type": "stream",
     "text": [
      "/tmp/ipykernel_3865369/1378707812.py:1: FutureWarning: You are using `torch.load` with `weights_only=False` (the current default value), which uses the default pickle module implicitly. It is possible to construct malicious pickle data which will execute arbitrary code during unpickling (See https://github.com/pytorch/pytorch/blob/main/SECURITY.md#untrusted-models for more details). In a future release, the default value for `weights_only` will be flipped to `True`. This limits the functions that could be executed during unpickling. Arbitrary objects will no longer be allowed to be loaded via this mode unless they are explicitly allowlisted by the user via `torch.serialization.add_safe_globals`. We recommend you start setting `weights_only=True` for any use case where you don't have full control of the loaded file. Please open an issue on GitHub for any issues related to this experimental feature.\n",
      "  x_data = torch.load(\"x_data.pt\")\n"
     ]
    },
    {
     "data": {
      "text/plain": [
       "torch.Size([1000, 10000])"
      ]
     },
     "execution_count": 11,
     "metadata": {},
     "output_type": "execute_result"
    }
   ],
   "source": [
    "x_data = torch.load(\"x_data.pt\")\n",
    "x_data.shape"
   ]
  }
 ],
 "metadata": {
  "kernelspec": {
   "display_name": "multifunc",
   "language": "python",
   "name": "python3"
  },
  "language_info": {
   "codemirror_mode": {
    "name": "ipython",
    "version": 3
   },
   "file_extension": ".py",
   "mimetype": "text/x-python",
   "name": "python",
   "nbconvert_exporter": "python",
   "pygments_lexer": "ipython3",
   "version": "3.11.9"
  }
 },
 "nbformat": 4,
 "nbformat_minor": 2
}
